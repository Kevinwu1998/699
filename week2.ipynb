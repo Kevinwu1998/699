{
 "cells": [
  {
   "cell_type": "markdown",
   "id": "a3c0ed9a-4edc-492e-a2db-f2be89cca38d",
   "metadata": {},
   "source": [
    "# Week 2 - Linear Regression 2"
   ]
  },
  {
   "cell_type": "code",
   "execution_count": 1,
   "id": "c9405192",
   "metadata": {},
   "outputs": [],
   "source": [
    "#pip install kaggle"
   ]
  },
  {
   "cell_type": "code",
   "execution_count": 2,
   "id": "4d22c7e7",
   "metadata": {},
   "outputs": [
    {
     "name": "stdout",
     "output_type": "stream",
     "text": [
      "Dataset URL: https://www.kaggle.com/datasets/ahmedshahriarsakib/usa-real-estate-dataset\n",
      "License(s): other\n",
      "Downloading usa-real-estate-dataset.zip to /workspaces/699\n",
      "  0%|                                               | 0.00/38.2M [00:00<?, ?B/s]\n",
      "100%|██████████████████████████████████████| 38.2M/38.2M [00:00<00:00, 1.14GB/s]\n",
      "Archive:  usa-real-estate-dataset.zip\n",
      "  inflating: usa_real_estate/realtor-data.zip.csv  \n"
     ]
    }
   ],
   "source": [
    "import os\n",
    "import json\n",
    "\n",
    "# Replace this with the content of your kaggle.json\n",
    "kaggle_token = {\n",
    "    \"username\": \"your_kaggle_username\",\n",
    "    \"key\": \"your_kaggle_api_key\"\n",
    "}\n",
    "\n",
    "os.makedirs(os.path.expanduser(\"~/.kaggle\"), exist_ok=True)\n",
    "with open(os.path.expanduser(\"~/.kaggle/kaggle.json\"), \"w\") as f:\n",
    "    json.dump(kaggle_token, f)\n",
    "\n",
    "os.chmod(os.path.expanduser(\"~/.kaggle/kaggle.json\"), 0o600)\n",
    "import os\n",
    "\n",
    "# Make sure your kaggle.json is correctly set up\n",
    "os.environ['KAGGLE_CONFIG_DIR'] = os.path.expanduser(\"~/.kaggle\")\n",
    "\n",
    "# Download the dataset\n",
    "!kaggle datasets download -d ahmedshahriarsakib/usa-real-estate-dataset\n",
    "\n",
    "# Unzip the dataset\n",
    "!unzip -o usa-real-estate-dataset.zip -d usa_real_estate\n",
    "\n"
   ]
  },
  {
   "cell_type": "code",
   "execution_count": 3,
   "id": "43ee1a23",
   "metadata": {},
   "outputs": [
    {
     "name": "stdout",
     "output_type": "stream",
     "text": [
      "   brokered_by    status     price  bed  bath  acre_lot     street  \\\n",
      "0     103378.0  for_sale  105000.0  3.0   2.0      0.12  1962661.0   \n",
      "1      52707.0  for_sale   80000.0  4.0   2.0      0.08  1902874.0   \n",
      "2     103379.0  for_sale   67000.0  2.0   1.0      0.15  1404990.0   \n",
      "3      31239.0  for_sale  145000.0  4.0   2.0      0.10  1947675.0   \n",
      "4      34632.0  for_sale   65000.0  6.0   2.0      0.05   331151.0   \n",
      "\n",
      "         city        state  zip_code  house_size prev_sold_date  \n",
      "0    Adjuntas  Puerto Rico     601.0       920.0            NaN  \n",
      "1    Adjuntas  Puerto Rico     601.0      1527.0            NaN  \n",
      "2  Juana Diaz  Puerto Rico     795.0       748.0            NaN  \n",
      "3       Ponce  Puerto Rico     731.0      1800.0            NaN  \n",
      "4    Mayaguez  Puerto Rico     680.0         NaN            NaN  \n"
     ]
    }
   ],
   "source": [
    "import pandas as pd\n",
    "\n",
    "df = pd.read_csv('usa_real_estate/realtor-data.zip.csv')  \n",
    "print(df.head())"
   ]
  },
  {
   "cell_type": "code",
   "execution_count": null,
   "id": "b74edcee",
   "metadata": {},
   "outputs": [],
   "source": []
  }
 ],
 "metadata": {
  "kernelspec": {
   "display_name": "Python 3",
   "language": "python",
   "name": "python3"
  },
  "language_info": {
   "codemirror_mode": {
    "name": "ipython",
    "version": 3
   },
   "file_extension": ".py",
   "mimetype": "text/x-python",
   "name": "python",
   "nbconvert_exporter": "python",
   "pygments_lexer": "ipython3",
   "version": "3.12.1"
  }
 },
 "nbformat": 4,
 "nbformat_minor": 5
}
