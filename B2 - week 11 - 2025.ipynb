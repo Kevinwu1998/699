{
 "cells": [
  {
   "cell_type": "code",
   "execution_count": null,
   "id": "a3c9f799-f066-490d-ae9f-cf2bc2f54b43",
   "metadata": {},
   "outputs": [],
   "source": [
    "import os\n",
    "import numpy as np\n",
    "import pandas as pd\n",
    "import statsmodels.api as sm\n",
    "import scipy\n",
    "import matplotlib.pyplot as plt\n",
    "from sklearn.metrics import r2_score\n",
    "from sklearn.preprocessing import StandardScaler\n",
    "import seaborn as sns\n",
    "from sklearn.decomposition import PCA\n",
    "from sklearn.preprocessing import MinMaxScaler\n",
    "from sklearn.metrics import root_mean_squared_error\n",
    "from sklearn.metrics import confusion_matrix\n",
    "from statsmodels.stats.outliers_influence import variance_inflation_factor\n",
    "from statsmodels.discrete.discrete_model import Logit\n",
    "from sklearn import tree\n",
    "from sklearn.datasets import load_iris\n",
    "from sklearn.tree import DecisionTreeClassifier\n",
    "from sklearn.model_selection import cross_val_score\n",
    "from sklearn.model_selection import GridSearchCV"
   ]
  },
  {
   "cell_type": "code",
   "execution_count": null,
   "id": "6c347746-14fe-4523-a4c8-935e168f3bab",
   "metadata": {},
   "outputs": [],
   "source": [
    "df = pd.read_csv(\"healthcare-dataset-stroke-data.csv\")"
   ]
  },
  {
   "cell_type": "code",
   "execution_count": null,
   "id": "96825035-f7cf-41df-9b57-a27c64b4623f",
   "metadata": {},
   "outputs": [],
   "source": [
    "df.describe()"
   ]
  },
  {
   "cell_type": "markdown",
   "id": "6b951670-f356-49af-85c4-87fb36b0c2ff",
   "metadata": {},
   "source": [
    "### Which is better: linear or logistic regression for predicting stroke?"
   ]
  },
  {
   "cell_type": "markdown",
   "id": "41959c3c-6338-49b7-b32c-895368066613",
   "metadata": {},
   "source": [
    "# Linear regression"
   ]
  },
  {
   "cell_type": "code",
   "execution_count": null,
   "id": "a9430dd6-48e4-4e15-b829-4ffc8456c6cd",
   "metadata": {},
   "outputs": [],
   "source": [
    "df_number = df.select_dtypes(include=[\"number\"])"
   ]
  },
  {
   "cell_type": "code",
   "execution_count": null,
   "id": "f28ecbab-1280-4d4f-84ab-4aefac5ddd57",
   "metadata": {},
   "outputs": [],
   "source": [
    "df_number.dropna(axis = 0).shape[0] / df_number.shape[0]"
   ]
  },
  {
   "cell_type": "code",
   "execution_count": null,
   "id": "29cc7e82-1bf0-4988-9308-971f62f9615e",
   "metadata": {},
   "outputs": [],
   "source": [
    "df_number_dropped = df_number.dropna(axis=0)"
   ]
  },
  {
   "cell_type": "code",
   "execution_count": null,
   "id": "4e254787-bb26-446e-8e70-aaf2827698a6",
   "metadata": {},
   "outputs": [],
   "source": [
    "model = sm.OLS(df_number_dropped[\"stroke\"], sm.add_constant(df_number_dropped.drop(columns = [\"stroke\"])))\n",
    "results = model.fit()\n",
    "results.params"
   ]
  },
  {
   "cell_type": "code",
   "execution_count": null,
   "id": "c64cec40-e862-4d87-a14a-346bae05f72a",
   "metadata": {},
   "outputs": [],
   "source": [
    "results.bse"
   ]
  },
  {
   "cell_type": "code",
   "execution_count": null,
   "id": "cf1722be-c234-4a94-9ed8-ec08f7476b93",
   "metadata": {},
   "outputs": [],
   "source": [
    "results.tvalues"
   ]
  },
  {
   "cell_type": "code",
   "execution_count": null,
   "id": "ac497a69-10ff-49ab-99f9-f197ac559082",
   "metadata": {},
   "outputs": [],
   "source": [
    "scaler = StandardScaler()\n",
    "Scaled = scaler.fit_transform(df_number_dropped.drop(columns = [\"stroke\"]))\n",
    "df_Scaled = sm.add_constant(pd.DataFrame(Scaled, columns = df_number_dropped.drop(columns = [\"stroke\"]).columns, index = df_number_dropped.index))"
   ]
  },
  {
   "cell_type": "code",
   "execution_count": null,
   "id": "303d7362-87b7-4077-9ada-0526b1b680c1",
   "metadata": {},
   "outputs": [],
   "source": [
    "model = sm.OLS(df_number_dropped.stroke, df_Scaled)\n",
    "results_scaled_linear = model.fit()\n",
    "results_scaled_linear.params"
   ]
  },
  {
   "cell_type": "code",
   "execution_count": null,
   "id": "c8ea7cdd-6cf8-452d-be8c-3f77116b7cfe",
   "metadata": {},
   "outputs": [],
   "source": [
    "results_scaled_linear.tvalues"
   ]
  },
  {
   "cell_type": "code",
   "execution_count": null,
   "id": "33ca53c0-44dd-40c9-b178-8c5a8c765707",
   "metadata": {},
   "outputs": [],
   "source": [
    "results_scaled_linear.bse"
   ]
  },
  {
   "cell_type": "code",
   "execution_count": null,
   "id": "bc026ff3-8807-4e9e-96cd-acc93fb2f60e",
   "metadata": {},
   "outputs": [],
   "source": [
    "df_number.corr()"
   ]
  },
  {
   "cell_type": "markdown",
   "id": "2876cd6d-fa63-45cd-99e8-5af2f0ddc29a",
   "metadata": {},
   "source": [
    "# Logistic Regression"
   ]
  },
  {
   "cell_type": "code",
   "execution_count": null,
   "id": "892c1140-70c9-471d-b981-e2100f49effe",
   "metadata": {},
   "outputs": [],
   "source": [
    "model = sm.Logit(df_number_dropped[\"stroke\"], df_Scaled)\n",
    "results = model.fit()\n",
    "results.params"
   ]
  },
  {
   "cell_type": "code",
   "execution_count": null,
   "id": "e609bab0-4307-4199-a79c-8c0974095a53",
   "metadata": {},
   "outputs": [],
   "source": [
    "results.bse"
   ]
  },
  {
   "cell_type": "code",
   "execution_count": null,
   "id": "db09be0d-26f8-425b-a64e-c1c7e1373181",
   "metadata": {},
   "outputs": [],
   "source": [
    "df_Scaled_combined = pd.concat((df_number_dropped.stroke, df_Scaled), axis = 1).rename(columns = {0: \"stroke\"})\n",
    "df_Scaled_combined[\"prediction\"] = results.predict(df_Scaled)"
   ]
  },
  {
   "cell_type": "code",
   "execution_count": null,
   "id": "47a6102e-8f41-4805-bbfb-7eb6d9c63520",
   "metadata": {},
   "outputs": [],
   "source": [
    "sns.violinplot(df_Scaled_combined, x = \"stroke\", y = \"prediction\")"
   ]
  },
  {
   "cell_type": "code",
   "execution_count": null,
   "id": "b0768488-f2fc-4424-a4ba-b6f398a68f2a",
   "metadata": {},
   "outputs": [],
   "source": [
    "prediction_binary = df_Scaled_combined.prediction > 0.5 * (df_Scaled_combined.query(\"stroke == 0\")[\"prediction\"].quantile(q = 0.5) + df_Scaled_combined.query(\"stroke == 1\")[\"prediction\"].quantile(q = 0.5))\n",
    "confusion_matrix(df_Scaled_combined.stroke, prediction_binary)"
   ]
  },
  {
   "cell_type": "code",
   "execution_count": null,
   "id": "9aa16a3d-8f70-4a67-affa-a8e7798e63de",
   "metadata": {},
   "outputs": [],
   "source": [
    "df_Scaled_combined.stroke.value_counts()"
   ]
  },
  {
   "cell_type": "code",
   "execution_count": null,
   "id": "019daa3e-f77f-4d02-be21-dd6a2d69d3f7",
   "metadata": {},
   "outputs": [],
   "source": [
    "root_mean_squared_error(df_Scaled_combined.stroke, df_Scaled_combined.prediction)"
   ]
  },
  {
   "cell_type": "code",
   "execution_count": null,
   "id": "57a051c8-3760-4427-835e-51e80bd9796e",
   "metadata": {},
   "outputs": [],
   "source": [
    "df_Scaled_combined[[\"stroke\", \"prediction\"]].corr().iloc[0, 1]"
   ]
  },
  {
   "cell_type": "code",
   "execution_count": null,
   "id": "9bbe9cd7-9efd-4519-a2ec-a4baa1a78f5b",
   "metadata": {},
   "outputs": [],
   "source": [
    "df_Scaled_combined[\"linear_prediction\"] = results_scaled_linear.predict(df_Scaled)"
   ]
  },
  {
   "cell_type": "code",
   "execution_count": null,
   "id": "7173c06c-40fd-4da3-b8ca-15c487c5aa5a",
   "metadata": {},
   "outputs": [],
   "source": [
    "plt.ylim((-0.1, 0.6))\n",
    "sns.violinplot(df_Scaled_combined, x = \"stroke\", y = \"linear_prediction\")"
   ]
  },
  {
   "cell_type": "code",
   "execution_count": null,
   "id": "3dea87ea-846b-4232-bbfb-0fc736ba5278",
   "metadata": {},
   "outputs": [],
   "source": [
    "linear_prediction_binary = df_Scaled_combined.linear_prediction > 0.5 * (df_Scaled_combined.query(\"stroke == 0\")[\"linear_prediction\"].quantile(q = 0.5) + df_Scaled_combined.query(\"stroke == 1\")[\"linear_prediction\"].quantile(q = 0.5))\n",
    "confusion_matrix(df_Scaled_combined.stroke, linear_prediction_binary)"
   ]
  },
  {
   "cell_type": "code",
   "execution_count": null,
   "id": "861faa1d-1104-45b3-884a-3523e88d62a0",
   "metadata": {},
   "outputs": [],
   "source": [
    "root_mean_squared_error(df_Scaled_combined.stroke, df_Scaled_combined.linear_prediction)"
   ]
  },
  {
   "cell_type": "code",
   "execution_count": null,
   "id": "ded0c8ae-284e-49da-af3e-2564f9cada7d",
   "metadata": {},
   "outputs": [],
   "source": [
    "df_Scaled_combined[[\"stroke\", \"linear_prediction\"]].corr().iloc[0, 1]"
   ]
  },
  {
   "cell_type": "markdown",
   "id": "80211465-6d11-4cfa-bb1d-5b3e8845741f",
   "metadata": {},
   "source": [
    "# Decision Trees"
   ]
  },
  {
   "cell_type": "code",
   "execution_count": null,
   "id": "2f153d0e-9029-4c13-b7d6-2a29b70d3293",
   "metadata": {},
   "outputs": [],
   "source": [
    "X = df_number_dropped.drop(columns = \"stroke\")\n",
    "clf = tree.DecisionTreeClassifier()\n",
    "clf = clf.fit(X, df_number_dropped.stroke)\n",
    "confusion_matrix(df_number_dropped.stroke, clf.predict(X))\n",
    "# Everything is classified perfectly, because we follow the tree to the end"
   ]
  },
  {
   "cell_type": "code",
   "execution_count": null,
   "id": "83db7d5f-6aa8-45ae-8168-ff27e36aedeb",
   "metadata": {},
   "outputs": [],
   "source": [
    "X.columns"
   ]
  },
  {
   "cell_type": "code",
   "execution_count": null,
   "id": "0236a82a-12dd-4fc1-a28f-38b2610274be",
   "metadata": {},
   "outputs": [],
   "source": [
    "pd.DataFrame(clf.feature_importances_.reshape(1, -1), columns = X.columns)"
   ]
  },
  {
   "cell_type": "code",
   "execution_count": null,
   "id": "8f2622ae-769e-4d74-9a05-d038a5655daf",
   "metadata": {},
   "outputs": [],
   "source": [
    "scores = cross_val_score(clf, X, df_number_dropped.stroke, cv=5)\n",
    "print(\"Cross-validation scores:\", scores)\n",
    "print(\"Mean CV accuracy:\", scores.mean())"
   ]
  },
  {
   "cell_type": "code",
   "execution_count": null,
   "id": "17fa055e-f4b6-49d6-94b7-66bb2a9b3941",
   "metadata": {},
   "outputs": [],
   "source": [
    "# f1 score definition\n",
    "# precision = TP / (TP + FP) and recall = TP / (TP + FN)\n",
    "# f1 = 2 * precision * recall / (precision + recall)"
   ]
  },
  {
   "cell_type": "code",
   "execution_count": null,
   "id": "d3eee2f2-2614-482f-8553-e788952117ed",
   "metadata": {},
   "outputs": [],
   "source": [
    "scores = cross_val_score(clf, X, df_number_dropped.stroke, scoring = \"f1\", cv=5)\n",
    "print(\"Cross-validation scores:\", scores)\n",
    "print(\"Mean CV accuracy:\", scores.mean())"
   ]
  },
  {
   "cell_type": "code",
   "execution_count": null,
   "id": "7eb36765-d67d-43ed-ac7b-701b71b0d7f1",
   "metadata": {},
   "outputs": [],
   "source": [
    "clf = tree.DecisionTreeClassifier(min_samples_split = 10)\n",
    "clf = clf.fit(X, df_number_dropped.stroke)\n",
    "confusion_matrix(df_number_dropped.stroke, clf.predict(X))\n",
    "# Most things get classified as 0, because at 50 samples, the last split is unlikely to identify a 1 node"
   ]
  },
  {
   "cell_type": "code",
   "execution_count": null,
   "id": "df530e19-10b9-454f-918c-f3a017ff7e13",
   "metadata": {},
   "outputs": [],
   "source": [
    "pd.DataFrame(clf.feature_importances_.reshape(1, -1), columns = X.columns)"
   ]
  },
  {
   "cell_type": "code",
   "execution_count": null,
   "id": "086956d8-5e8c-4c63-a18f-2dd3c11a6c71",
   "metadata": {},
   "outputs": [],
   "source": [
    "scores = cross_val_score(clf, X, df_number_dropped.stroke, cv=5)\n",
    "print(\"Cross-validation scores:\", scores)\n",
    "print(\"Mean CV accuracy:\", scores.mean())"
   ]
  },
  {
   "cell_type": "code",
   "execution_count": null,
   "id": "d23a269f-0964-40ae-a4c7-fe2e90a98620",
   "metadata": {},
   "outputs": [],
   "source": [
    "scores = cross_val_score(clf, X, df_number_dropped.stroke, scoring = \"f1\", cv=5)\n",
    "print(\"Cross-validation scores:\", scores)\n",
    "print(\"Mean CV accuracy:\", scores.mean())"
   ]
  },
  {
   "cell_type": "code",
   "execution_count": null,
   "id": "3b184a6e-5be8-4907-9f58-89de0187a448",
   "metadata": {},
   "outputs": [],
   "source": [
    "clf = tree.DecisionTreeClassifier(min_samples_leaf = 50)\n",
    "clf = clf.fit(X, df_number_dropped.stroke)\n",
    "confusion_matrix(df_number_dropped.stroke, clf.predict(X))\n",
    "# Everything gets classified as 0, because no node of 50 samples is predominantly a 1"
   ]
  },
  {
   "cell_type": "code",
   "execution_count": null,
   "id": "f31e15f5-e65b-4438-8023-0fa44223626c",
   "metadata": {},
   "outputs": [],
   "source": [
    "pd.DataFrame(clf.feature_importances_.reshape(1, -1), columns = X.columns)"
   ]
  },
  {
   "cell_type": "code",
   "execution_count": null,
   "id": "bfd77f2b-e52b-4424-8fbc-848f43e31a1e",
   "metadata": {},
   "outputs": [],
   "source": [
    "scores = cross_val_score(clf, X, df_number_dropped.stroke, cv=5)\n",
    "print(\"Cross-validation scores:\", scores)\n",
    "print(\"Mean CV accuracy:\", scores.mean())"
   ]
  },
  {
   "cell_type": "code",
   "execution_count": null,
   "id": "6b0ea53b-3a8d-404c-b3f5-ce2dc7770d69",
   "metadata": {
    "scrolled": true
   },
   "outputs": [],
   "source": [
    "clf = tree.DecisionTreeClassifier(max_features = 2)\n",
    "clf = clf.fit(X, df_number_dropped.stroke)\n",
    "confusion_matrix(df_number_dropped.stroke, clf.predict(X))\n",
    "# Everything gets classified perfectly, because we follow the tree to the end"
   ]
  },
  {
   "cell_type": "code",
   "execution_count": null,
   "id": "0777b995-f76a-4ce1-b573-6448da712b59",
   "metadata": {},
   "outputs": [],
   "source": [
    "pd.DataFrame(clf.feature_importances_.reshape(1, -1), columns = X.columns)"
   ]
  },
  {
   "cell_type": "code",
   "execution_count": null,
   "id": "862ef991-2009-43bd-b9f7-d89ee9865307",
   "metadata": {},
   "outputs": [],
   "source": [
    "scores = cross_val_score(clf, X, df_number_dropped.stroke, cv=5)\n",
    "print(\"Cross-validation scores:\", scores)\n",
    "print(\"Mean CV accuracy:\", scores.mean())"
   ]
  },
  {
   "cell_type": "code",
   "execution_count": null,
   "id": "434f9197-8e86-4cb3-afbd-271b23afb880",
   "metadata": {},
   "outputs": [],
   "source": [
    "param_grid = {\n",
    "    'min_samples_split': [1, 3, 10, 30],\n",
    "    'max_features': [1, 2, 4, 6],\n",
    "}\n",
    "\n",
    "# Set up the grid search\n",
    "grid_search = GridSearchCV(\n",
    "    estimator=DecisionTreeClassifier(random_state=42),\n",
    "    param_grid=param_grid,\n",
    "    cv=5,\n",
    "    scoring='f1',\n",
    "    n_jobs=-1\n",
    ")\n",
    "\n",
    "# Fit the model\n",
    "grid_search.fit(X, df_number_dropped.stroke)\n",
    "\n",
    "# Best parameters and score\n",
    "print(\"Best Parameters:\", grid_search.best_params_)\n",
    "print(\"Best CV Score:\", grid_search.best_score_)"
   ]
  },
  {
   "cell_type": "code",
   "execution_count": null,
   "id": "dc8bf744-1293-4ee6-8eb0-05d13a08ebde",
   "metadata": {},
   "outputs": [],
   "source": []
  }
 ],
 "metadata": {
  "kernelspec": {
   "display_name": "Python 3 (ipykernel)",
   "language": "python",
   "name": "python3"
  },
  "language_info": {
   "codemirror_mode": {
    "name": "ipython",
    "version": 3
   },
   "file_extension": ".py",
   "mimetype": "text/x-python",
   "name": "python",
   "nbconvert_exporter": "python",
   "pygments_lexer": "ipython3",
   "version": "3.12.0"
  }
 },
 "nbformat": 4,
 "nbformat_minor": 5
}
